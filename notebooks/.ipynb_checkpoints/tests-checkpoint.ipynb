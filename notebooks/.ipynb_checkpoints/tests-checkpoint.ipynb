{
 "cells": [
  {
   "cell_type": "code",
   "execution_count": 1,
   "id": "a70e06b9",
   "metadata": {},
   "outputs": [],
   "source": [
    "%load_ext autoreload\n",
    "%autoreload 2\n",
    "\n",
    "import k3d\n",
    "import sys\n",
    "sys.path.insert(0, '..')\n",
    "from models.diffusion import *\n",
    "from models.pointnet import *\n",
    "from models.latent_cond.models import *\n",
    "from models.transformer import *\n",
    "from models.dataset import *"
   ]
  },
  {
   "cell_type": "code",
   "execution_count": 28,
   "id": "275f528a",
   "metadata": {},
   "outputs": [
    {
     "data": {
      "text/plain": [
       "<torch._C.Generator at 0x1073786f0>"
      ]
     },
     "execution_count": 28,
     "metadata": {},
     "output_type": "execute_result"
    }
   ],
   "source": [
    "import numpy as np\n",
    "np.random.seed(0)\n",
    "torch.use_deterministic_algorithms(True)\n",
    "torch.manual_seed(0)"
   ]
  },
  {
   "cell_type": "code",
   "execution_count": 19,
   "id": "b87341a1",
   "metadata": {},
   "outputs": [
    {
     "data": {
      "text/plain": [
       "<All keys matched successfully>"
      ]
     },
     "execution_count": 19,
     "metadata": {},
     "output_type": "execute_result"
    }
   ],
   "source": [
    "model = DiffusionModel(NoisePredictor(3, residual=True),\n",
    "                       1000,\n",
    "                       time_embedding_dim=3)\n",
    "state = torch.load('/Users/mihailkim/Downloads/model_299.pt', map_location=torch.device('cpu'))\n",
    "model.load_state_dict(state['ema'])"
   ]
  },
  {
   "cell_type": "code",
   "execution_count": 20,
   "id": "ab25e16b",
   "metadata": {},
   "outputs": [],
   "source": [
    "dataset = Dataset('..', dataset_name='shapenetpart', class_choice='airplane', split='val', segmentation=True)\n",
    "loader = torch.utils.data.DataLoader(dataset, batch_size=32)"
   ]
  },
  {
   "cell_type": "code",
   "execution_count": 21,
   "id": "38613274",
   "metadata": {},
   "outputs": [],
   "source": [
    "import k3d"
   ]
  },
  {
   "cell_type": "code",
   "execution_count": 22,
   "id": "bb8316ef",
   "metadata": {},
   "outputs": [
    {
     "name": "stderr",
     "output_type": "stream",
     "text": [
      "100%|██████████████████████████████████████████████████████████████████████████████████████████| 9/9 [02:47<00:00, 18.58s/it]\n"
     ]
    }
   ],
   "source": [
    "model.eval()\n",
    "\n",
    "batch = next(iter(loader))\n",
    "x = batch[0].transpose(2, 1)\n",
    "labels = batch[2]\n",
    "features, coords = model.get_features(x, [10, 50, 100, 200, 300, 400, 500, 600, 700])"
   ]
  },
  {
   "cell_type": "code",
   "execution_count": 23,
   "id": "2e79c283",
   "metadata": {},
   "outputs": [],
   "source": [
    "def interpolate(x, y, y_features):\n",
    "    dists = (\n",
    "        y.pow(2).sum(dim=1, keepdim=True) -\n",
    "        2 * torch.bmm(x.transpose(2, 1), y)\n",
    "        + x.pow(2).sum(dim=1).unsqueeze(2)\n",
    "    )\n",
    "    weights, idx = torch.topk(dists.pow(2), 3, largest=False, sorted=False, dim=2)\n",
    "    weights = 1 / (weights + 1e-8)\n",
    "    weights /= weights.sum(dim=2, keepdim=True)\n",
    "\n",
    "            # idx: bs x n x 3\n",
    "    bs, _, n_points = x.shape\n",
    "    channels = y_features.size(1)\n",
    "    interpolated = torch.gather(y_features, 2, idx.view(bs, 1, -1).expand(-1, channels, -1))\n",
    "    interpolated = interpolated.view(bs, channels, n_points, 3) * weights.unsqueeze(1)\n",
    "    \n",
    "    return interpolated.sum(dim=3)\n",
    "\n",
    "def combine_features(x, features, centroids):\n",
    "    features_list = [features[0]]\n",
    "    \n",
    "    for i in range(1, 4):\n",
    "        interpolated = interpolate(x, centroids[i-1], features[i])\n",
    "\n",
    "        features_list.append(interpolated)\n",
    "        \n",
    "    return torch.cat(features_list, dim=1)"
   ]
  },
  {
   "cell_type": "code",
   "execution_count": 24,
   "id": "897dc88b",
   "metadata": {},
   "outputs": [],
   "source": [
    "l = combine_features(x, features[100], coords[100])"
   ]
  },
  {
   "cell_type": "code",
   "execution_count": 25,
   "id": "ab90c03d",
   "metadata": {},
   "outputs": [],
   "source": [
    "from sklearn.cluster import KMeans"
   ]
  },
  {
   "cell_type": "code",
   "execution_count": 26,
   "id": "e612f0d1",
   "metadata": {},
   "outputs": [],
   "source": [
    "clt = KMeans(n_clusters=3).fit_predict(l[2].t())"
   ]
  },
  {
   "cell_type": "code",
   "execution_count": 27,
   "id": "7f21d3c5",
   "metadata": {},
   "outputs": [
    {
     "data": {
      "application/vnd.jupyter.widget-view+json": {
       "model_id": "37f1d798121446d4a4826ba3bd4d0bcf",
       "version_major": 2,
       "version_minor": 0
      },
      "text/plain": [
       "Output()"
      ]
     },
     "metadata": {},
     "output_type": "display_data"
    }
   ],
   "source": [
    "k3d.points(x[2].t(), point_size=0.05, attribute=clt)"
   ]
  },
  {
   "cell_type": "code",
   "execution_count": null,
   "id": "42d3bc85",
   "metadata": {},
   "outputs": [],
   "source": [
    "model.eval()\n",
    "\n",
    "samples = model.sample()"
   ]
  },
  {
   "cell_type": "code",
   "execution_count": null,
   "id": "e987f317",
   "metadata": {},
   "outputs": [],
   "source": []
  }
 ],
 "metadata": {
  "kernelspec": {
   "display_name": "Python 3 (ipykernel)",
   "language": "python",
   "name": "python3"
  },
  "language_info": {
   "codemirror_mode": {
    "name": "ipython",
    "version": 3
   },
   "file_extension": ".py",
   "mimetype": "text/x-python",
   "name": "python",
   "nbconvert_exporter": "python",
   "pygments_lexer": "ipython3",
   "version": "3.9.1"
  }
 },
 "nbformat": 4,
 "nbformat_minor": 5
}
